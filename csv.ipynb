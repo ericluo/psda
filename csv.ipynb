{
 "nbformat": 4,
 "nbformat_minor": 2,
 "metadata": {
  "language_info": {
   "name": "python",
   "codemirror_mode": {
    "name": "ipython",
    "version": 3
   },
   "version": "3.7.4-final"
  },
  "orig_nbformat": 2,
  "file_extension": ".py",
  "mimetype": "text/x-python",
  "name": "python",
  "npconvert_exporter": "python",
  "pygments_lexer": "ipython3",
  "version": 3,
  "kernelspec": {
   "name": "python3",
   "display_name": "Python 3"
  }
 },
 "cells": [
  {
   "cell_type": "code",
   "execution_count": 24,
   "metadata": {},
   "outputs": [
    {
     "data": {
      "text/html": "<div>\n<style scoped>\n    .dataframe tbody tr th:only-of-type {\n        vertical-align: middle;\n    }\n\n    .dataframe tbody tr th {\n        vertical-align: top;\n    }\n\n    .dataframe thead th {\n        text-align: right;\n    }\n</style>\n<table border=\"1\" class=\"dataframe\">\n  <thead>\n    <tr style=\"text-align: right;\">\n      <th></th>\n      <th>2019收益</th>\n    </tr>\n    <tr>\n      <th>地区</th>\n      <th></th>\n    </tr>\n  </thead>\n  <tbody>\n    <tr>\n      <th>上海</th>\n      <td>912,978</td>\n    </tr>\n    <tr>\n      <th>河南</th>\n      <td>113,678</td>\n    </tr>\n    <tr>\n      <th>重慶</th>\n      <td>67,892</td>\n    </tr>\n    <tr>\n      <th>安徽</th>\n      <td>179,046</td>\n    </tr>\n    <tr>\n      <th>山東</th>\n      <td>81,786</td>\n    </tr>\n    <tr>\n      <th>遼寧</th>\n      <td>181,614</td>\n    </tr>\n    <tr>\n      <th>江西</th>\n      <td>80,789</td>\n    </tr>\n    <tr>\n      <th>福建</th>\n      <td>46,283</td>\n    </tr>\n    <tr>\n      <th>浙江</th>\n      <td>30,476</td>\n    </tr>\n    <tr>\n      <th>江蘇</th>\n      <td>64,302</td>\n    </tr>\n    <tr>\n      <th>廣西</th>\n      <td>15,664</td>\n    </tr>\n    <tr>\n      <th>內蒙古</th>\n      <td>18,191</td>\n    </tr>\n    <tr>\n      <th>貴州</th>\n      <td>15,407</td>\n    </tr>\n    <tr>\n      <th>湖北</th>\n      <td>216</td>\n    </tr>\n    <tr>\n      <th>—</th>\n      <td>—</td>\n    </tr>\n    <tr>\n      <th>總計</th>\n      <td>1,808,322</td>\n    </tr>\n  </tbody>\n</table>\n</div>",
      "text/plain": "        2019收益\n地区            \n上海     912,978\n河南     113,678\n重慶      67,892\n安徽     179,046\n山東      81,786\n遼寧     181,614\n江西      80,789\n福建      46,283\n浙江      30,476\n江蘇      64,302\n廣西      15,664\n內蒙古     18,191\n貴州      15,407\n湖北         216\n—            —\n總計   1,808,322"
     },
     "execution_count": 24,
     "metadata": {},
     "output_type": "execute_result"
    }
   ],
   "source": [
    "import pandas as pd\n",
    "df1 = pd.read_clipboard(index_col=0, usecols=[0,1], names=['地区', '2019收益'])\n",
    "df1"
   ]
  },
  {
   "cell_type": "code",
   "execution_count": 69,
   "metadata": {},
   "outputs": [
    {
     "data": {
      "text/html": "<div>\n<style scoped>\n    .dataframe tbody tr th:only-of-type {\n        vertical-align: middle;\n    }\n\n    .dataframe tbody tr th {\n        vertical-align: top;\n    }\n\n    .dataframe thead th {\n        text-align: right;\n    }\n</style>\n<table border=\"1\" class=\"dataframe\">\n  <thead>\n    <tr style=\"text-align: right;\">\n      <th></th>\n      <th>2018收益</th>\n      <th>2017收益</th>\n    </tr>\n    <tr>\n      <th>地区</th>\n      <th></th>\n      <th></th>\n    </tr>\n  </thead>\n  <tbody>\n    <tr>\n      <th>上海</th>\n      <td>862,165</td>\n      <td>780,296</td>\n    </tr>\n    <tr>\n      <th>河南</th>\n      <td>98,171</td>\n      <td>88,265</td>\n    </tr>\n    <tr>\n      <th>重慶</th>\n      <td>70,404</td>\n      <td>70,563</td>\n    </tr>\n    <tr>\n      <th>安徽</th>\n      <td>158,072</td>\n      <td>137,334</td>\n    </tr>\n    <tr>\n      <th>山東</th>\n      <td>69,116</td>\n      <td>59,718</td>\n    </tr>\n    <tr>\n      <th>遼寧</th>\n      <td>175,037</td>\n      <td>174,109</td>\n    </tr>\n    <tr>\n      <th>江西</th>\n      <td>55,071</td>\n      <td>45,924</td>\n    </tr>\n    <tr>\n      <th>福建</th>\n      <td>37,735</td>\n      <td>33,636</td>\n    </tr>\n    <tr>\n      <th>浙江</th>\n      <td>17,359</td>\n      <td>8,341</td>\n    </tr>\n    <tr>\n      <th>江蘇</th>\n      <td>52,944</td>\n      <td>57,017</td>\n    </tr>\n    <tr>\n      <th>廣西</th>\n      <td>11,755</td>\n      <td>2,697</td>\n    </tr>\n    <tr>\n      <th>內蒙古</th>\n      <td>9,958</td>\n      <td>None</td>\n    </tr>\n    <tr>\n      <th>—</th>\n      <td>—</td>\n      <td>None</td>\n    </tr>\n    <tr>\n      <th>貴州</th>\n      <td>7,024</td>\n      <td>None</td>\n    </tr>\n    <tr>\n      <th>—</th>\n      <td>—</td>\n      <td>None</td>\n    </tr>\n  </tbody>\n</table>\n</div>",
      "text/plain": "      2018收益   2017收益\n地区                   \n上海   862,165  780,296\n河南    98,171   88,265\n重慶    70,404   70,563\n安徽   158,072  137,334\n山東    69,116   59,718\n遼寧   175,037  174,109\n江西    55,071   45,924\n福建    37,735   33,636\n浙江    17,359    8,341\n江蘇    52,944   57,017\n廣西    11,755    2,697\n內蒙古    9,958     None\n—          —     None\n貴州     7,024     None\n—          —     None"
     },
     "execution_count": 69,
     "metadata": {},
     "output_type": "execute_result"
    }
   ],
   "source": [
    "df2 = pd.read_clipboard(names=['地区', '2018收益', '2017收益'], index_col=0, usecols=[0, 1, 3])\n",
    "df2"
   ]
  },
  {
   "cell_type": "code",
   "execution_count": 72,
   "metadata": {},
   "outputs": [
    {
     "data": {
      "text/html": "<div>\n<style scoped>\n    .dataframe tbody tr th:only-of-type {\n        vertical-align: middle;\n    }\n\n    .dataframe tbody tr th {\n        vertical-align: top;\n    }\n\n    .dataframe thead th {\n        text-align: right;\n    }\n</style>\n<table border=\"1\" class=\"dataframe\">\n  <thead>\n    <tr style=\"text-align: right;\">\n      <th></th>\n      <th>2019收益</th>\n      <th>2018收益</th>\n      <th>2017收益</th>\n    </tr>\n    <tr>\n      <th>地区</th>\n      <th></th>\n      <th></th>\n      <th></th>\n    </tr>\n  </thead>\n  <tbody>\n    <tr>\n      <th>上海</th>\n      <td>912,978</td>\n      <td>862,165</td>\n      <td>780,296</td>\n    </tr>\n    <tr>\n      <th>河南</th>\n      <td>113,678</td>\n      <td>98,171</td>\n      <td>88,265</td>\n    </tr>\n    <tr>\n      <th>重慶</th>\n      <td>67,892</td>\n      <td>70,404</td>\n      <td>70,563</td>\n    </tr>\n    <tr>\n      <th>安徽</th>\n      <td>179,046</td>\n      <td>158,072</td>\n      <td>137,334</td>\n    </tr>\n    <tr>\n      <th>山東</th>\n      <td>81,786</td>\n      <td>69,116</td>\n      <td>59,718</td>\n    </tr>\n    <tr>\n      <th>遼寧</th>\n      <td>181,614</td>\n      <td>175,037</td>\n      <td>174,109</td>\n    </tr>\n    <tr>\n      <th>江西</th>\n      <td>80,789</td>\n      <td>55,071</td>\n      <td>45,924</td>\n    </tr>\n    <tr>\n      <th>福建</th>\n      <td>46,283</td>\n      <td>37,735</td>\n      <td>33,636</td>\n    </tr>\n    <tr>\n      <th>浙江</th>\n      <td>30,476</td>\n      <td>17,359</td>\n      <td>8,341</td>\n    </tr>\n    <tr>\n      <th>江蘇</th>\n      <td>64,302</td>\n      <td>52,944</td>\n      <td>57,017</td>\n    </tr>\n    <tr>\n      <th>廣西</th>\n      <td>15,664</td>\n      <td>11,755</td>\n      <td>2,697</td>\n    </tr>\n    <tr>\n      <th>內蒙古</th>\n      <td>18,191</td>\n      <td>9,958</td>\n      <td>None</td>\n    </tr>\n    <tr>\n      <th>貴州</th>\n      <td>15,407</td>\n      <td>7,024</td>\n      <td>None</td>\n    </tr>\n    <tr>\n      <th>湖北</th>\n      <td>216</td>\n      <td>NaN</td>\n      <td>NaN</td>\n    </tr>\n    <tr>\n      <th>—</th>\n      <td>—</td>\n      <td>—</td>\n      <td>None</td>\n    </tr>\n    <tr>\n      <th>—</th>\n      <td>—</td>\n      <td>—</td>\n      <td>None</td>\n    </tr>\n    <tr>\n      <th>總計</th>\n      <td>1,808,322</td>\n      <td>NaN</td>\n      <td>NaN</td>\n    </tr>\n  </tbody>\n</table>\n</div>",
      "text/plain": "        2019收益   2018收益   2017收益\n地区                              \n上海     912,978  862,165  780,296\n河南     113,678   98,171   88,265\n重慶      67,892   70,404   70,563\n安徽     179,046  158,072  137,334\n山東      81,786   69,116   59,718\n遼寧     181,614  175,037  174,109\n江西      80,789   55,071   45,924\n福建      46,283   37,735   33,636\n浙江      30,476   17,359    8,341\n江蘇      64,302   52,944   57,017\n廣西      15,664   11,755    2,697\n內蒙古     18,191    9,958     None\n貴州      15,407    7,024     None\n湖北         216      NaN      NaN\n—            —        —     None\n—            —        —     None\n總計   1,808,322      NaN      NaN"
     },
     "execution_count": 72,
     "metadata": {},
     "output_type": "execute_result"
    }
   ],
   "source": [
    "df = pd.merge(df1, df2, on='地区', how='left')\n",
    "df"
   ]
  },
  {
   "cell_type": "code",
   "execution_count": 73,
   "metadata": {},
   "outputs": [
    {
     "data": {
      "text/html": "<div>\n<style scoped>\n    .dataframe tbody tr th:only-of-type {\n        vertical-align: middle;\n    }\n\n    .dataframe tbody tr th {\n        vertical-align: top;\n    }\n\n    .dataframe thead th {\n        text-align: right;\n    }\n</style>\n<table border=\"1\" class=\"dataframe\">\n  <thead>\n    <tr style=\"text-align: right;\">\n      <th></th>\n      <th>2019收益</th>\n      <th>2018收益</th>\n      <th>2017收益</th>\n    </tr>\n    <tr>\n      <th>地区</th>\n      <th></th>\n      <th></th>\n      <th></th>\n    </tr>\n  </thead>\n  <tbody>\n    <tr>\n      <th>上海</th>\n      <td>912,978</td>\n      <td>862,165</td>\n      <td>780,296</td>\n    </tr>\n    <tr>\n      <th>河南</th>\n      <td>113,678</td>\n      <td>98,171</td>\n      <td>88,265</td>\n    </tr>\n    <tr>\n      <th>重慶</th>\n      <td>67,892</td>\n      <td>70,404</td>\n      <td>70,563</td>\n    </tr>\n    <tr>\n      <th>安徽</th>\n      <td>179,046</td>\n      <td>158,072</td>\n      <td>137,334</td>\n    </tr>\n    <tr>\n      <th>山東</th>\n      <td>81,786</td>\n      <td>69,116</td>\n      <td>59,718</td>\n    </tr>\n    <tr>\n      <th>遼寧</th>\n      <td>181,614</td>\n      <td>175,037</td>\n      <td>174,109</td>\n    </tr>\n    <tr>\n      <th>江西</th>\n      <td>80,789</td>\n      <td>55,071</td>\n      <td>45,924</td>\n    </tr>\n    <tr>\n      <th>福建</th>\n      <td>46,283</td>\n      <td>37,735</td>\n      <td>33,636</td>\n    </tr>\n    <tr>\n      <th>浙江</th>\n      <td>30,476</td>\n      <td>17,359</td>\n      <td>8,341</td>\n    </tr>\n    <tr>\n      <th>江蘇</th>\n      <td>64,302</td>\n      <td>52,944</td>\n      <td>57,017</td>\n    </tr>\n    <tr>\n      <th>廣西</th>\n      <td>15,664</td>\n      <td>11,755</td>\n      <td>2,697</td>\n    </tr>\n    <tr>\n      <th>內蒙古</th>\n      <td>18,191</td>\n      <td>9,958</td>\n      <td>None</td>\n    </tr>\n    <tr>\n      <th>貴州</th>\n      <td>15,407</td>\n      <td>7,024</td>\n      <td>None</td>\n    </tr>\n    <tr>\n      <th>湖北</th>\n      <td>216</td>\n      <td>NaN</td>\n      <td>NaN</td>\n    </tr>\n    <tr>\n      <th>總計</th>\n      <td>1,808,322</td>\n      <td>NaN</td>\n      <td>NaN</td>\n    </tr>\n  </tbody>\n</table>\n</div>",
      "text/plain": "        2019收益   2018收益   2017收益\n地区                              \n上海     912,978  862,165  780,296\n河南     113,678   98,171   88,265\n重慶      67,892   70,404   70,563\n安徽     179,046  158,072  137,334\n山東      81,786   69,116   59,718\n遼寧     181,614  175,037  174,109\n江西      80,789   55,071   45,924\n福建      46,283   37,735   33,636\n浙江      30,476   17,359    8,341\n江蘇      64,302   52,944   57,017\n廣西      15,664   11,755    2,697\n內蒙古     18,191    9,958     None\n貴州      15,407    7,024     None\n湖北         216      NaN      NaN\n總計   1,808,322      NaN      NaN"
     },
     "execution_count": 73,
     "metadata": {},
     "output_type": "execute_result"
    }
   ],
   "source": [
    "df[df.index !=  '—']"
   ]
  },
  {
   "cell_type": "code",
   "execution_count": 64,
   "metadata": {},
   "outputs": [
    {
     "data": {
      "text/plain": "Index(['上海', '河南', '重慶', '安徽', '山東', '遼寧', '江西', '福建', '浙江', '江蘇', '廣西', '內蒙古',\n       '貴州', '湖北', '—', '總計'],\n      dtype='object', name='地区')"
     },
     "execution_count": 64,
     "metadata": {},
     "output_type": "execute_result"
    }
   ],
   "source": [
    "df.index"
   ]
  }
 ]
}