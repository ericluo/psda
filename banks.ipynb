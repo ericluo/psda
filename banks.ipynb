{
 "cells": [
  {
   "cell_type": "code",
   "execution_count": null,
   "metadata": {},
   "outputs": [],
   "source": [
    "import pandas as pd\n",
    "pd.set_option('display.precision', 2)\n",
    "pd.set_option('display.float_format', '{:,.2f}'.format)\n",
    "\n",
    "\n",
    "def highlight_max(s):\n",
    "    '''\n",
    "    highlight the maximum in a Series yellow.\n",
    "    '''\n",
    "    is_max = s == s.max()\n",
    "    return ['background-color: yellow' if v else '' for v in is_max]\n",
    "\n",
    "data_file = \"http://dataframe.oss-cn-beijing.aliyuncs.com/banks.xlsx\"\n",
    "dfs = pd.read_excel(data_file, sheet_name=None, na_values='———', index_col=0)\n",
    "# df = pd.concat(dfs, names=['机构', '指标'])\n",
    "df = pd.concat(dfs)\n",
    "df.columns = [pd.Period(d) for d in df.columns] # pd.to_datetime(df.columns, format='%Y%m%d')\n",
    "# df.columns.name = '期数'\n",
    "# df.set_index(['指标', '机构'])\n",
    "# df.set_index(['指标', '期数'], inplace=True)\n",
    "df.xs('净利差', level=1)"
   ]
  },
  {
   "cell_type": "code",
   "execution_count": null,
   "metadata": {
    "collapsed": true,
    "jupyter": {
     "outputs_hidden": true
    }
   },
   "outputs": [],
   "source": [
    "ndf = df['20171231'].unstack()\n"
   ]
  },
  {
   "cell_type": "code",
   "execution_count": null,
   "metadata": {},
   "outputs": [],
   "source": [
    "# 存贷差\n",
    "ndf['存贷差'] = ndf['贷款利率'] - ndf['存款利率']\n",
    "\n",
    "# 资产\n",
    "ndf['贷款占比'] = ndf['贷款平均余额'] / ndf['生息资产余额']\n",
    "ndf['公司贷款占比'] = ndf['公司贷款'] / ndf['生息资产余额']\n",
    "ndf['零售贷款占比'] = ndf['零售贷款'] / ndf['生息资产余额']\n",
    "ndf['票据贴现占比'] = ndf['票据贴现'] / ndf['生息资产余额']\n",
    "\n",
    "ndf['投资占比'] = ndf['投资平均余额'] / ndf['生息资产余额']\n",
    "ndf['存放央行占比'] = ndf['存放央行平均余额'] / ndf['生息资产余额']\n",
    "ndf['同业资产占比'] = ndf['存拆放同业平均余额'] / ndf['生息资产余额']\n",
    "\n",
    "# 负债\n",
    "ndf['存款占比'] = ndf['存款平均余额'] / ndf['计息负债余额']\n",
    "ndf['公司存款占比'] = ndf['公司存款'] / ndf['计息负债余额']\n",
    "ndf['公司活期占比'] = ndf['公司活期'] / ndf['计息负债余额']\n",
    "ndf['公司定期占比'] = ndf['公司定期'] / ndf['计息负债余额']\n",
    "\n",
    "ndf['零售存款占比'] = ndf['零售存款'] / ndf['计息负债余额']\n",
    "ndf['零售活期占比'] = ndf['零售活期'] / ndf['计息负债余额']\n",
    "ndf['零售定期占比'] = ndf['零售定期'] / ndf['计息负债余额']\n",
    "\n",
    "ndf['活期存款占比'] = (ndf['公司活期'] + ndf['零售活期']) / ndf['计息负债余额']\n",
    "\n",
    "ndf['发行债券占比'] = ndf['发行债券平均余额'] / ndf['计息负债余额']\n",
    "ndf['向央行借款占比'] = ndf['向央行借款平均余额'] / ndf['计息负债余额']\n",
    "ndf['同业负债占比'] = ndf['同业存拆放平均余额'] / ndf['计息负债余额']\n",
    "\n",
    "ndf[['贷款占比', '公司贷款占比', '零售贷款占比', '票据贴现占比', '投资占比', '存放央行占比', '同业资产占比']].style.apply(highlight_max).format(\"{:.2%}\")"
   ]
  },
  {
   "cell_type": "code",
   "execution_count": null,
   "metadata": {},
   "outputs": [],
   "source": [
    "cols = ['贷款占比', '贷款利率', '投资占比', '投资收息率', '存放央行占比', '存放央行收息率', '同业资产占比', '存拆放同业收息率']\n",
    "cols1 = [s for s in cols if s.endswith('占比')]\n",
    "ndf[cols].style.format(\"{:.2%}\", subset=cols1).highlight_max().highlight_min(color='green')"
   ]
  },
  {
   "cell_type": "code",
   "execution_count": null,
   "metadata": {},
   "outputs": [],
   "source": [
    "ndf[['存款占比', '公司存款占比', '公司活期占比', '零售存款占比', '零售活期占比', '活期存款占比', '发行债券占比', '向央行借款占比', '同业负债占比']].style.apply(highlight_max).format(\"{:.2%}\")"
   ]
  },
  {
   "cell_type": "code",
   "execution_count": null,
   "metadata": {},
   "outputs": [],
   "source": [
    "ndf[['贷款利率', '公司贷款利率', '零售贷款利率', '存款利率', '公司活期利率', '公司定期利率', '零售活期利率', '零售定期利率', '存贷差', '净利差', '净息差']].style.apply(highlight_max).format(\"{:.2f}\")"
   ]
  },
  {
   "cell_type": "code",
   "execution_count": null,
   "metadata": {},
   "outputs": [],
   "source": [
    "df.xs('贷款利率', level=1)"
   ]
  },
  {
   "cell_type": "code",
   "execution_count": null,
   "metadata": {},
   "outputs": [],
   "source": [
    "df.xs('存款利率', level=1)"
   ]
  },
  {
   "cell_type": "code",
   "execution_count": null,
   "metadata": {},
   "outputs": [],
   "source": [
    "df.xs('贷款利率', level=1) - df.xs('存款利率', level=1)"
   ]
  },
  {
   "cell_type": "code",
   "execution_count": null,
   "metadata": {
    "collapsed": true,
    "jupyter": {
     "outputs_hidden": true
    }
   },
   "outputs": [],
   "source": []
  },
  {
   "cell_type": "code",
   "execution_count": null,
   "metadata": {
    "collapsed": true,
    "jupyter": {
     "outputs_hidden": true
    }
   },
   "outputs": [],
   "source": []
  }
 ],
 "metadata": {
  "hide_input": false,
  "kernelspec": {
   "display_name": "Python 3",
   "language": "python",
   "name": "python3"
  },
  "language_info": {
   "codemirror_mode": {
    "name": "ipython",
    "version": 3
   },
   "file_extension": ".py",
   "mimetype": "text/x-python",
   "name": "python",
   "nbconvert_exporter": "python",
   "pygments_lexer": "ipython3",
   "version": "3.7.4"
  },
  "nav_menu": {},
  "toc": {
   "navigate_menu": true,
   "number_sections": true,
   "sideBar": true,
   "threshold": 6,
   "toc_cell": false,
   "toc_section_display": "block",
   "toc_window_display": false
  }
 },
 "nbformat": 4,
 "nbformat_minor": 4
}