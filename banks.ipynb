{
 "cells": [
  {
   "cell_type": "code",
   "execution_count": 22,
   "metadata": {},
   "outputs": [
    {
     "data": {
      "text/html": "<div>\n<style scoped>\n    .dataframe tbody tr th:only-of-type {\n        vertical-align: middle;\n    }\n\n    .dataframe tbody tr th {\n        vertical-align: top;\n    }\n\n    .dataframe thead th {\n        text-align: right;\n    }\n</style>\n<table border=\"1\" class=\"dataframe\">\n  <thead>\n    <tr style=\"text-align: right;\">\n      <th></th>\n      <th>2012-12-31</th>\n      <th>2013-03-31</th>\n      <th>2013-06-30</th>\n      <th>2013-09-30</th>\n      <th>2013-12-31</th>\n      <th>2014-03-31</th>\n      <th>2014-06-30</th>\n      <th>2014-09-30</th>\n      <th>2014-12-31</th>\n      <th>2015-03-31</th>\n      <th>...</th>\n      <th>2015-12-31</th>\n      <th>2016-03-31</th>\n      <th>2016-06-30</th>\n      <th>2016-09-30</th>\n      <th>2016-12-31</th>\n      <th>2017-03-31</th>\n      <th>2017-06-30</th>\n      <th>2017-09-30</th>\n      <th>2017-12-31</th>\n      <th>2018-12-31</th>\n    </tr>\n  </thead>\n  <tbody>\n    <tr>\n      <th>招商银行</th>\n      <td>2.87</td>\n      <td>2.78</td>\n      <td>2.78</td>\n      <td>2.66</td>\n      <td>2.65</td>\n      <td>2.44</td>\n      <td>2.48</td>\n      <td>2.30</td>\n      <td>2.45</td>\n      <td>2.72</td>\n      <td>...</td>\n      <td>2.59</td>\n      <td>2.49</td>\n      <td>2.45</td>\n      <td>2.43</td>\n      <td>2.37</td>\n      <td>2.30</td>\n      <td>2.31</td>\n      <td>nan</td>\n      <td>2.29</td>\n      <td>2.44</td>\n    </tr>\n    <tr>\n      <th>兴业银行</th>\n      <td>nan</td>\n      <td>nan</td>\n      <td>nan</td>\n      <td>nan</td>\n      <td>nan</td>\n      <td>nan</td>\n      <td>nan</td>\n      <td>nan</td>\n      <td>nan</td>\n      <td>nan</td>\n      <td>...</td>\n      <td>2.26</td>\n      <td>nan</td>\n      <td>2.03</td>\n      <td>nan</td>\n      <td>2.00</td>\n      <td>nan</td>\n      <td>1.48</td>\n      <td>nan</td>\n      <td>nan</td>\n      <td>nan</td>\n    </tr>\n    <tr>\n      <th>平安银行</th>\n      <td>2.19</td>\n      <td>nan</td>\n      <td>nan</td>\n      <td>nan</td>\n      <td>2.14</td>\n      <td>nan</td>\n      <td>nan</td>\n      <td>nan</td>\n      <td>2.39</td>\n      <td>nan</td>\n      <td>...</td>\n      <td>2.62</td>\n      <td>nan</td>\n      <td>2.66</td>\n      <td>nan</td>\n      <td>2.60</td>\n      <td>2.37</td>\n      <td>2.29</td>\n      <td>nan</td>\n      <td>nan</td>\n      <td>nan</td>\n    </tr>\n    <tr>\n      <th>民生银行</th>\n      <td>2.75</td>\n      <td>nan</td>\n      <td>2.24</td>\n      <td>nan</td>\n      <td>2.30</td>\n      <td>nan</td>\n      <td>2.42</td>\n      <td>nan</td>\n      <td>2.41</td>\n      <td>nan</td>\n      <td>...</td>\n      <td>2.10</td>\n      <td>nan</td>\n      <td>1.88</td>\n      <td>nan</td>\n      <td>1.74</td>\n      <td>nan</td>\n      <td>nan</td>\n      <td>nan</td>\n      <td>nan</td>\n      <td>nan</td>\n    </tr>\n    <tr>\n      <th>中信银行</th>\n      <td>2.61</td>\n      <td>nan</td>\n      <td>2.39</td>\n      <td>nan</td>\n      <td>2.40</td>\n      <td>nan</td>\n      <td>2.14</td>\n      <td>nan</td>\n      <td>2.19</td>\n      <td>nan</td>\n      <td>...</td>\n      <td>2.13</td>\n      <td>nan</td>\n      <td>nan</td>\n      <td>nan</td>\n      <td>1.89</td>\n      <td>nan</td>\n      <td>nan</td>\n      <td>nan</td>\n      <td>nan</td>\n      <td>nan</td>\n    </tr>\n    <tr>\n      <th>宁波银行</th>\n      <td>nan</td>\n      <td>nan</td>\n      <td>nan</td>\n      <td>nan</td>\n      <td>nan</td>\n      <td>nan</td>\n      <td>nan</td>\n      <td>nan</td>\n      <td>2.50</td>\n      <td>nan</td>\n      <td>...</td>\n      <td>2.40</td>\n      <td>nan</td>\n      <td>2.05</td>\n      <td>nan</td>\n      <td>nan</td>\n      <td>nan</td>\n      <td>nan</td>\n      <td>nan</td>\n      <td>nan</td>\n      <td>nan</td>\n    </tr>\n    <tr>\n      <th>农业银行</th>\n      <td>nan</td>\n      <td>nan</td>\n      <td>nan</td>\n      <td>nan</td>\n      <td>nan</td>\n      <td>nan</td>\n      <td>nan</td>\n      <td>nan</td>\n      <td>nan</td>\n      <td>nan</td>\n      <td>...</td>\n      <td>nan</td>\n      <td>nan</td>\n      <td>nan</td>\n      <td>nan</td>\n      <td>nan</td>\n      <td>nan</td>\n      <td>nan</td>\n      <td>nan</td>\n      <td>nan</td>\n      <td>nan</td>\n    </tr>\n  </tbody>\n</table>\n<p>7 rows × 22 columns</p>\n</div>",
      "text/plain": "      2012-12-31  2013-03-31  2013-06-30  2013-09-30  2013-12-31  2014-03-31  \\\n招商银行        2.87        2.78        2.78        2.66        2.65        2.44   \n兴业银行         nan         nan         nan         nan         nan         nan   \n平安银行        2.19         nan         nan         nan        2.14         nan   \n民生银行        2.75         nan        2.24         nan        2.30         nan   \n中信银行        2.61         nan        2.39         nan        2.40         nan   \n宁波银行         nan         nan         nan         nan         nan         nan   \n农业银行         nan         nan         nan         nan         nan         nan   \n\n      2014-06-30  2014-09-30  2014-12-31  2015-03-31  ...  2015-12-31  \\\n招商银行        2.48        2.30        2.45        2.72  ...        2.59   \n兴业银行         nan         nan         nan         nan  ...        2.26   \n平安银行         nan         nan        2.39         nan  ...        2.62   \n民生银行        2.42         nan        2.41         nan  ...        2.10   \n中信银行        2.14         nan        2.19         nan  ...        2.13   \n宁波银行         nan         nan        2.50         nan  ...        2.40   \n农业银行         nan         nan         nan         nan  ...         nan   \n\n      2016-03-31  2016-06-30  2016-09-30  2016-12-31  2017-03-31  2017-06-30  \\\n招商银行        2.49        2.45        2.43        2.37        2.30        2.31   \n兴业银行         nan        2.03         nan        2.00         nan        1.48   \n平安银行         nan        2.66         nan        2.60        2.37        2.29   \n民生银行         nan        1.88         nan        1.74         nan         nan   \n中信银行         nan         nan         nan        1.89         nan         nan   \n宁波银行         nan        2.05         nan         nan         nan         nan   \n农业银行         nan         nan         nan         nan         nan         nan   \n\n      2017-09-30  2017-12-31  2018-12-31  \n招商银行         nan        2.29        2.44  \n兴业银行         nan         nan         nan  \n平安银行         nan         nan         nan  \n民生银行         nan         nan         nan  \n中信银行         nan         nan         nan  \n宁波银行         nan         nan         nan  \n农业银行         nan         nan         nan  \n\n[7 rows x 22 columns]"
     },
     "execution_count": 22,
     "metadata": {},
     "output_type": "execute_result"
    }
   ],
   "source": [
    "import pandas as pd\n",
    "pd.set_option('display.precision', 2)\n",
    "pd.set_option('display.float_format', '{:,.2f}'.format)\n",
    "\n",
    "\n",
    "def highlight_max(s):\n",
    "    '''\n",
    "    highlight the maximum in a Series yellow.\n",
    "    '''\n",
    "    is_max = s == s.max()\n",
    "    return ['background-color: yellow' if v else '' for v in is_max]\n",
    "\n",
    "data_file = \"http://dataframe.oss-cn-beijing.aliyuncs.com/banks.xlsx\"\n",
    "dfs = pd.read_excel(data_file, sheet_name=None, na_values='———', index_col=0)\n",
    "# df = pd.concat(dfs, names=['机构', '指标'])\n",
    "df = pd.concat(dfs)\n",
    "df.columns = [pd.Period(d) for d in df.columns] # pd.to_datetime(df.columns, format='%Y%m%d')\n",
    "# df.columns.name = '期数'\n",
    "# df.set_index(['指标', '机构'])\n",
    "# df.set_index(['指标', '期数'], inplace=True)\n",
    "df.xs('净利差', level=1)"
   ]
  },
  {
   "cell_type": "code",
   "execution_count": 23,
   "metadata": {},
   "outputs": [],
   "source": [
    "ndf = df['20171231'].unstack()\n"
   ]
  },
  {
   "cell_type": "code",
   "execution_count": 24,
   "metadata": {},
   "outputs": [],
   "source": [
    "# # 存贷差\n",
    "# ndf['存贷差'] = ndf['贷款利率'] - ndf['存款利率']\n",
    "\n",
    "# # 资产\n",
    "# ndf['贷款占比'] = ndf['贷款平均余额'] / ndf['生息资产余额']\n",
    "# ndf['公司贷款占比'] = ndf['公司贷款'] / ndf['生息资产余额']\n",
    "# ndf['零售贷款占比'] = ndf['零售贷款'] / ndf['生息资产余额']\n",
    "# ndf['票据贴现占比'] = ndf['票据贴现'] / ndf['生息资产余额']\n",
    "\n",
    "# ndf['投资占比'] = ndf['投资平均余额'] / ndf['生息资产余额']\n",
    "# ndf['存放央行占比'] = ndf['存放央行平均余额'] / ndf['生息资产余额']\n",
    "# ndf['同业资产占比'] = ndf['存拆放同业平均余额'] / ndf['生息资产余额']\n",
    "\n",
    "# # 负债\n",
    "# ndf['存款占比'] = ndf['存款平均余额'] / ndf['计息负债余额']\n",
    "# ndf['公司存款占比'] = ndf['公司存款'] / ndf['计息负债余额']\n",
    "# ndf['公司活期占比'] = ndf['公司活期'] / ndf['计息负债余额']\n",
    "# ndf['公司定期占比'] = ndf['公司定期'] / ndf['计息负债余额']\n",
    "\n",
    "# ndf['零售存款占比'] = ndf['零售存款'] / ndf['计息负债余额']\n",
    "# ndf['零售活期占比'] = ndf['零售活期'] / ndf['计息负债余额']\n",
    "# ndf['零售定期占比'] = ndf['零售定期'] / ndf['计息负债余额']\n",
    "\n",
    "# ndf['活期存款占比'] = (ndf['公司活期'] + ndf['零售活期']) / ndf['计息负债余额']\n",
    "\n",
    "# ndf['发行债券占比'] = ndf['发行债券平均余额'] / ndf['计息负债余额']\n",
    "# ndf['向央行借款占比'] = ndf['向央行借款平均余额'] / ndf['计息负债余额']\n",
    "# ndf['同业负债占比'] = ndf['同业存拆放平均余额'] / ndf['计息负债余额']\n",
    "\n",
    "# ndf[['贷款占比', '公司贷款占比', '零售贷款占比', '票据贴现占比', '投资占比', '存放央行占比', '同业资产占比']].style.apply(highlight_max).format(\"{:.2%}\")"
   ]
  },
  {
   "cell_type": "code",
   "execution_count": 25,
   "metadata": {},
   "outputs": [],
   "source": [
    "# cols = ['贷款占比', '贷款利率', '投资占比', '投资收息率', '存放央行占比', '存放央行收息率', '同业资产占比', '存拆放同业收息率']\n",
    "# cols1 = [s for s in cols if s.endswith('占比')]\n",
    "# ndf[cols].style.format(\"{:.2%}\", subset=cols1).highlight_max().highlight_min(color='green')"
   ]
  },
  {
   "cell_type": "code",
   "execution_count": 26,
   "metadata": {},
   "outputs": [],
   "source": [
    "# ndf[['存款占比', '公司存款占比', '公司活期占比', '零售存款占比', '零售活期占比', '活期存款占比', '发行债券占比', '向央行借款占比', '同业负债占比']].style.apply(highlight_max).format(\"{:.2%}\")"
   ]
  },
  {
   "cell_type": "code",
   "execution_count": 27,
   "metadata": {},
   "outputs": [],
   "source": [
    "# ndf[['贷款利率', '公司贷款利率', '零售贷款利率', '存款利率', '公司活期利率', '公司定期利率', '零售活期利率', '零售定期利率', '存贷差', '净利差', '净息差']].style.apply(highlight_max).format(\"{:.2f}\")"
   ]
  },
  {
   "cell_type": "code",
   "execution_count": 28,
   "metadata": {},
   "outputs": [],
   "source": [
    "# df.xs('贷款利率', level=1)"
   ]
  },
  {
   "cell_type": "code",
   "execution_count": 29,
   "metadata": {},
   "outputs": [],
   "source": [
    "# df.xs('存款利率', level=1)"
   ]
  },
  {
   "cell_type": "code",
   "execution_count": 30,
   "metadata": {},
   "outputs": [],
   "source": [
    "# df.xs('贷款利率', level=1) - df.xs('存款利率', level=1)"
   ]
  }
 ],
 "metadata": {
  "hide_input": false,
  "kernelspec": {
   "display_name": "Python 3",
   "language": "python",
   "name": "python3"
  },
  "language_info": {
   "codemirror_mode": {
    "name": "ipython",
    "version": 3
   },
   "file_extension": ".py",
   "mimetype": "text/x-python",
   "name": "python",
   "nbconvert_exporter": "python",
   "pygments_lexer": "ipython3",
   "version": "3.7.4-final"
  },
  "nav_menu": {},
  "toc": {
   "navigate_menu": true,
   "number_sections": true,
   "sideBar": true,
   "threshold": 6,
   "toc_cell": false,
   "toc_section_display": "block",
   "toc_window_display": false
  }
 },
 "nbformat": 4,
 "nbformat_minor": 4
}